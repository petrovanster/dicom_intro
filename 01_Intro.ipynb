{
  "nbformat": 4,
  "nbformat_minor": 0,
  "metadata": {
    "colab": {
      "name": "01.Intro.ipynb",
      "provenance": [],
      "collapsed_sections": [],
      "authorship_tag": "ABX9TyN1LAzLVIvU1GBbRZUOJoi4",
      "include_colab_link": true
    },
    "kernelspec": {
      "name": "python3",
      "display_name": "Python 3"
    },
    "language_info": {
      "name": "python"
    }
  },
  "cells": [
    {
      "cell_type": "markdown",
      "metadata": {
        "id": "view-in-github",
        "colab_type": "text"
      },
      "source": [
        "<a href=\"https://colab.research.google.com/github/petrovanster/dicom_intro/blob/main/01_Intro.ipynb\" target=\"_parent\"><img src=\"https://colab.research.google.com/assets/colab-badge.svg\" alt=\"Open In Colab\"/></a>"
      ]
    },
    {
      "cell_type": "markdown",
      "metadata": {
        "id": "DpweoOQMJva5"
      },
      "source": [
        "Install pydicom and gdcm"
      ]
    },
    {
      "cell_type": "code",
      "metadata": {
        "colab": {
          "base_uri": "https://localhost:8080/"
        },
        "id": "n8fC3VhWJ92A",
        "outputId": "6c8b8547-af3a-475b-db09-523aa785f5cb"
      },
      "source": [
        "!pip install pydicom\n",
        "!pip install python-gdcm"
      ],
      "execution_count": 2,
      "outputs": [
        {
          "output_type": "stream",
          "name": "stdout",
          "text": [
            "Collecting pydicom\n",
            "  Downloading pydicom-2.2.2-py3-none-any.whl (2.0 MB)\n",
            "\u001b[?25l\r\u001b[K     |▏                               | 10 kB 24.0 MB/s eta 0:00:01\r\u001b[K     |▍                               | 20 kB 23.6 MB/s eta 0:00:01\r\u001b[K     |▌                               | 30 kB 28.3 MB/s eta 0:00:01\r\u001b[K     |▊                               | 40 kB 19.2 MB/s eta 0:00:01\r\u001b[K     |▉                               | 51 kB 20.9 MB/s eta 0:00:01\r\u001b[K     |█                               | 61 kB 21.8 MB/s eta 0:00:01\r\u001b[K     |█▏                              | 71 kB 23.5 MB/s eta 0:00:01\r\u001b[K     |█▍                              | 81 kB 25.3 MB/s eta 0:00:01\r\u001b[K     |█▌                              | 92 kB 23.0 MB/s eta 0:00:01\r\u001b[K     |█▊                              | 102 kB 23.5 MB/s eta 0:00:01\r\u001b[K     |█▉                              | 112 kB 23.5 MB/s eta 0:00:01\r\u001b[K     |██                              | 122 kB 23.5 MB/s eta 0:00:01\r\u001b[K     |██▏                             | 133 kB 23.5 MB/s eta 0:00:01\r\u001b[K     |██▍                             | 143 kB 23.5 MB/s eta 0:00:01\r\u001b[K     |██▌                             | 153 kB 23.5 MB/s eta 0:00:01\r\u001b[K     |██▊                             | 163 kB 23.5 MB/s eta 0:00:01\r\u001b[K     |██▉                             | 174 kB 23.5 MB/s eta 0:00:01\r\u001b[K     |███                             | 184 kB 23.5 MB/s eta 0:00:01\r\u001b[K     |███▏                            | 194 kB 23.5 MB/s eta 0:00:01\r\u001b[K     |███▍                            | 204 kB 23.5 MB/s eta 0:00:01\r\u001b[K     |███▌                            | 215 kB 23.5 MB/s eta 0:00:01\r\u001b[K     |███▊                            | 225 kB 23.5 MB/s eta 0:00:01\r\u001b[K     |███▉                            | 235 kB 23.5 MB/s eta 0:00:01\r\u001b[K     |████                            | 245 kB 23.5 MB/s eta 0:00:01\r\u001b[K     |████▏                           | 256 kB 23.5 MB/s eta 0:00:01\r\u001b[K     |████▍                           | 266 kB 23.5 MB/s eta 0:00:01\r\u001b[K     |████▌                           | 276 kB 23.5 MB/s eta 0:00:01\r\u001b[K     |████▊                           | 286 kB 23.5 MB/s eta 0:00:01\r\u001b[K     |████▉                           | 296 kB 23.5 MB/s eta 0:00:01\r\u001b[K     |█████                           | 307 kB 23.5 MB/s eta 0:00:01\r\u001b[K     |█████▏                          | 317 kB 23.5 MB/s eta 0:00:01\r\u001b[K     |█████▍                          | 327 kB 23.5 MB/s eta 0:00:01\r\u001b[K     |█████▌                          | 337 kB 23.5 MB/s eta 0:00:01\r\u001b[K     |█████▊                          | 348 kB 23.5 MB/s eta 0:00:01\r\u001b[K     |█████▉                          | 358 kB 23.5 MB/s eta 0:00:01\r\u001b[K     |██████                          | 368 kB 23.5 MB/s eta 0:00:01\r\u001b[K     |██████▏                         | 378 kB 23.5 MB/s eta 0:00:01\r\u001b[K     |██████▍                         | 389 kB 23.5 MB/s eta 0:00:01\r\u001b[K     |██████▌                         | 399 kB 23.5 MB/s eta 0:00:01\r\u001b[K     |██████▊                         | 409 kB 23.5 MB/s eta 0:00:01\r\u001b[K     |██████▉                         | 419 kB 23.5 MB/s eta 0:00:01\r\u001b[K     |███████                         | 430 kB 23.5 MB/s eta 0:00:01\r\u001b[K     |███████▎                        | 440 kB 23.5 MB/s eta 0:00:01\r\u001b[K     |███████▍                        | 450 kB 23.5 MB/s eta 0:00:01\r\u001b[K     |███████▋                        | 460 kB 23.5 MB/s eta 0:00:01\r\u001b[K     |███████▊                        | 471 kB 23.5 MB/s eta 0:00:01\r\u001b[K     |████████                        | 481 kB 23.5 MB/s eta 0:00:01\r\u001b[K     |████████                        | 491 kB 23.5 MB/s eta 0:00:01\r\u001b[K     |████████▎                       | 501 kB 23.5 MB/s eta 0:00:01\r\u001b[K     |████████▍                       | 512 kB 23.5 MB/s eta 0:00:01\r\u001b[K     |████████▋                       | 522 kB 23.5 MB/s eta 0:00:01\r\u001b[K     |████████▊                       | 532 kB 23.5 MB/s eta 0:00:01\r\u001b[K     |█████████                       | 542 kB 23.5 MB/s eta 0:00:01\r\u001b[K     |█████████                       | 552 kB 23.5 MB/s eta 0:00:01\r\u001b[K     |█████████▎                      | 563 kB 23.5 MB/s eta 0:00:01\r\u001b[K     |█████████▍                      | 573 kB 23.5 MB/s eta 0:00:01\r\u001b[K     |█████████▋                      | 583 kB 23.5 MB/s eta 0:00:01\r\u001b[K     |█████████▊                      | 593 kB 23.5 MB/s eta 0:00:01\r\u001b[K     |██████████                      | 604 kB 23.5 MB/s eta 0:00:01\r\u001b[K     |██████████                      | 614 kB 23.5 MB/s eta 0:00:01\r\u001b[K     |██████████▎                     | 624 kB 23.5 MB/s eta 0:00:01\r\u001b[K     |██████████▍                     | 634 kB 23.5 MB/s eta 0:00:01\r\u001b[K     |██████████▋                     | 645 kB 23.5 MB/s eta 0:00:01\r\u001b[K     |██████████▊                     | 655 kB 23.5 MB/s eta 0:00:01\r\u001b[K     |███████████                     | 665 kB 23.5 MB/s eta 0:00:01\r\u001b[K     |███████████                     | 675 kB 23.5 MB/s eta 0:00:01\r\u001b[K     |███████████▎                    | 686 kB 23.5 MB/s eta 0:00:01\r\u001b[K     |███████████▍                    | 696 kB 23.5 MB/s eta 0:00:01\r\u001b[K     |███████████▋                    | 706 kB 23.5 MB/s eta 0:00:01\r\u001b[K     |███████████▊                    | 716 kB 23.5 MB/s eta 0:00:01\r\u001b[K     |████████████                    | 727 kB 23.5 MB/s eta 0:00:01\r\u001b[K     |████████████                    | 737 kB 23.5 MB/s eta 0:00:01\r\u001b[K     |████████████▎                   | 747 kB 23.5 MB/s eta 0:00:01\r\u001b[K     |████████████▍                   | 757 kB 23.5 MB/s eta 0:00:01\r\u001b[K     |████████████▋                   | 768 kB 23.5 MB/s eta 0:00:01\r\u001b[K     |████████████▊                   | 778 kB 23.5 MB/s eta 0:00:01\r\u001b[K     |█████████████                   | 788 kB 23.5 MB/s eta 0:00:01\r\u001b[K     |█████████████                   | 798 kB 23.5 MB/s eta 0:00:01\r\u001b[K     |█████████████▎                  | 808 kB 23.5 MB/s eta 0:00:01\r\u001b[K     |█████████████▍                  | 819 kB 23.5 MB/s eta 0:00:01\r\u001b[K     |█████████████▋                  | 829 kB 23.5 MB/s eta 0:00:01\r\u001b[K     |█████████████▊                  | 839 kB 23.5 MB/s eta 0:00:01\r\u001b[K     |██████████████                  | 849 kB 23.5 MB/s eta 0:00:01\r\u001b[K     |██████████████                  | 860 kB 23.5 MB/s eta 0:00:01\r\u001b[K     |██████████████▎                 | 870 kB 23.5 MB/s eta 0:00:01\r\u001b[K     |██████████████▌                 | 880 kB 23.5 MB/s eta 0:00:01\r\u001b[K     |██████████████▋                 | 890 kB 23.5 MB/s eta 0:00:01\r\u001b[K     |██████████████▉                 | 901 kB 23.5 MB/s eta 0:00:01\r\u001b[K     |███████████████                 | 911 kB 23.5 MB/s eta 0:00:01\r\u001b[K     |███████████████▏                | 921 kB 23.5 MB/s eta 0:00:01\r\u001b[K     |███████████████▎                | 931 kB 23.5 MB/s eta 0:00:01\r\u001b[K     |███████████████▌                | 942 kB 23.5 MB/s eta 0:00:01\r\u001b[K     |███████████████▋                | 952 kB 23.5 MB/s eta 0:00:01\r\u001b[K     |███████████████▉                | 962 kB 23.5 MB/s eta 0:00:01\r\u001b[K     |████████████████                | 972 kB 23.5 MB/s eta 0:00:01\r\u001b[K     |████████████████▏               | 983 kB 23.5 MB/s eta 0:00:01\r\u001b[K     |████████████████▎               | 993 kB 23.5 MB/s eta 0:00:01\r\u001b[K     |████████████████▌               | 1.0 MB 23.5 MB/s eta 0:00:01\r\u001b[K     |████████████████▋               | 1.0 MB 23.5 MB/s eta 0:00:01\r\u001b[K     |████████████████▉               | 1.0 MB 23.5 MB/s eta 0:00:01\r\u001b[K     |█████████████████               | 1.0 MB 23.5 MB/s eta 0:00:01\r\u001b[K     |█████████████████▏              | 1.0 MB 23.5 MB/s eta 0:00:01\r\u001b[K     |█████████████████▎              | 1.1 MB 23.5 MB/s eta 0:00:01\r\u001b[K     |█████████████████▌              | 1.1 MB 23.5 MB/s eta 0:00:01\r\u001b[K     |█████████████████▋              | 1.1 MB 23.5 MB/s eta 0:00:01\r\u001b[K     |█████████████████▉              | 1.1 MB 23.5 MB/s eta 0:00:01\r\u001b[K     |██████████████████              | 1.1 MB 23.5 MB/s eta 0:00:01\r\u001b[K     |██████████████████▏             | 1.1 MB 23.5 MB/s eta 0:00:01\r\u001b[K     |██████████████████▎             | 1.1 MB 23.5 MB/s eta 0:00:01\r\u001b[K     |██████████████████▌             | 1.1 MB 23.5 MB/s eta 0:00:01\r\u001b[K     |██████████████████▋             | 1.1 MB 23.5 MB/s eta 0:00:01\r\u001b[K     |██████████████████▉             | 1.1 MB 23.5 MB/s eta 0:00:01\r\u001b[K     |███████████████████             | 1.2 MB 23.5 MB/s eta 0:00:01\r\u001b[K     |███████████████████▏            | 1.2 MB 23.5 MB/s eta 0:00:01\r\u001b[K     |███████████████████▎            | 1.2 MB 23.5 MB/s eta 0:00:01\r\u001b[K     |███████████████████▌            | 1.2 MB 23.5 MB/s eta 0:00:01\r\u001b[K     |███████████████████▋            | 1.2 MB 23.5 MB/s eta 0:00:01\r\u001b[K     |███████████████████▉            | 1.2 MB 23.5 MB/s eta 0:00:01\r\u001b[K     |████████████████████            | 1.2 MB 23.5 MB/s eta 0:00:01\r\u001b[K     |████████████████████▏           | 1.2 MB 23.5 MB/s eta 0:00:01\r\u001b[K     |████████████████████▎           | 1.2 MB 23.5 MB/s eta 0:00:01\r\u001b[K     |████████████████████▌           | 1.2 MB 23.5 MB/s eta 0:00:01\r\u001b[K     |████████████████████▋           | 1.3 MB 23.5 MB/s eta 0:00:01\r\u001b[K     |████████████████████▉           | 1.3 MB 23.5 MB/s eta 0:00:01\r\u001b[K     |█████████████████████           | 1.3 MB 23.5 MB/s eta 0:00:01\r\u001b[K     |█████████████████████▏          | 1.3 MB 23.5 MB/s eta 0:00:01\r\u001b[K     |█████████████████████▎          | 1.3 MB 23.5 MB/s eta 0:00:01\r\u001b[K     |█████████████████████▌          | 1.3 MB 23.5 MB/s eta 0:00:01\r\u001b[K     |█████████████████████▊          | 1.3 MB 23.5 MB/s eta 0:00:01\r\u001b[K     |█████████████████████▉          | 1.3 MB 23.5 MB/s eta 0:00:01\r\u001b[K     |██████████████████████          | 1.3 MB 23.5 MB/s eta 0:00:01\r\u001b[K     |██████████████████████▏         | 1.4 MB 23.5 MB/s eta 0:00:01\r\u001b[K     |██████████████████████▍         | 1.4 MB 23.5 MB/s eta 0:00:01\r\u001b[K     |██████████████████████▌         | 1.4 MB 23.5 MB/s eta 0:00:01\r\u001b[K     |██████████████████████▊         | 1.4 MB 23.5 MB/s eta 0:00:01\r\u001b[K     |██████████████████████▉         | 1.4 MB 23.5 MB/s eta 0:00:01\r\u001b[K     |███████████████████████         | 1.4 MB 23.5 MB/s eta 0:00:01\r\u001b[K     |███████████████████████▏        | 1.4 MB 23.5 MB/s eta 0:00:01\r\u001b[K     |███████████████████████▍        | 1.4 MB 23.5 MB/s eta 0:00:01\r\u001b[K     |███████████████████████▌        | 1.4 MB 23.5 MB/s eta 0:00:01\r\u001b[K     |███████████████████████▊        | 1.4 MB 23.5 MB/s eta 0:00:01\r\u001b[K     |███████████████████████▉        | 1.5 MB 23.5 MB/s eta 0:00:01\r\u001b[K     |████████████████████████        | 1.5 MB 23.5 MB/s eta 0:00:01\r\u001b[K     |████████████████████████▏       | 1.5 MB 23.5 MB/s eta 0:00:01\r\u001b[K     |████████████████████████▍       | 1.5 MB 23.5 MB/s eta 0:00:01\r\u001b[K     |████████████████████████▌       | 1.5 MB 23.5 MB/s eta 0:00:01\r\u001b[K     |████████████████████████▊       | 1.5 MB 23.5 MB/s eta 0:00:01\r\u001b[K     |████████████████████████▉       | 1.5 MB 23.5 MB/s eta 0:00:01\r\u001b[K     |█████████████████████████       | 1.5 MB 23.5 MB/s eta 0:00:01\r\u001b[K     |█████████████████████████▏      | 1.5 MB 23.5 MB/s eta 0:00:01\r\u001b[K     |█████████████████████████▍      | 1.5 MB 23.5 MB/s eta 0:00:01\r\u001b[K     |█████████████████████████▌      | 1.6 MB 23.5 MB/s eta 0:00:01\r\u001b[K     |█████████████████████████▊      | 1.6 MB 23.5 MB/s eta 0:00:01\r\u001b[K     |█████████████████████████▉      | 1.6 MB 23.5 MB/s eta 0:00:01\r\u001b[K     |██████████████████████████      | 1.6 MB 23.5 MB/s eta 0:00:01\r\u001b[K     |██████████████████████████▏     | 1.6 MB 23.5 MB/s eta 0:00:01\r\u001b[K     |██████████████████████████▍     | 1.6 MB 23.5 MB/s eta 0:00:01\r\u001b[K     |██████████████████████████▌     | 1.6 MB 23.5 MB/s eta 0:00:01\r\u001b[K     |██████████████████████████▊     | 1.6 MB 23.5 MB/s eta 0:00:01\r\u001b[K     |██████████████████████████▉     | 1.6 MB 23.5 MB/s eta 0:00:01\r\u001b[K     |███████████████████████████     | 1.6 MB 23.5 MB/s eta 0:00:01\r\u001b[K     |███████████████████████████▏    | 1.7 MB 23.5 MB/s eta 0:00:01\r\u001b[K     |███████████████████████████▍    | 1.7 MB 23.5 MB/s eta 0:00:01\r\u001b[K     |███████████████████████████▌    | 1.7 MB 23.5 MB/s eta 0:00:01\r\u001b[K     |███████████████████████████▊    | 1.7 MB 23.5 MB/s eta 0:00:01\r\u001b[K     |███████████████████████████▉    | 1.7 MB 23.5 MB/s eta 0:00:01\r\u001b[K     |████████████████████████████    | 1.7 MB 23.5 MB/s eta 0:00:01\r\u001b[K     |████████████████████████████▏   | 1.7 MB 23.5 MB/s eta 0:00:01\r\u001b[K     |████████████████████████████▍   | 1.7 MB 23.5 MB/s eta 0:00:01\r\u001b[K     |████████████████████████████▌   | 1.7 MB 23.5 MB/s eta 0:00:01\r\u001b[K     |████████████████████████████▊   | 1.8 MB 23.5 MB/s eta 0:00:01\r\u001b[K     |█████████████████████████████   | 1.8 MB 23.5 MB/s eta 0:00:01\r\u001b[K     |█████████████████████████████   | 1.8 MB 23.5 MB/s eta 0:00:01\r\u001b[K     |█████████████████████████████▎  | 1.8 MB 23.5 MB/s eta 0:00:01\r\u001b[K     |█████████████████████████████▍  | 1.8 MB 23.5 MB/s eta 0:00:01\r\u001b[K     |█████████████████████████████▋  | 1.8 MB 23.5 MB/s eta 0:00:01\r\u001b[K     |█████████████████████████████▊  | 1.8 MB 23.5 MB/s eta 0:00:01\r\u001b[K     |██████████████████████████████  | 1.8 MB 23.5 MB/s eta 0:00:01\r\u001b[K     |██████████████████████████████  | 1.8 MB 23.5 MB/s eta 0:00:01\r\u001b[K     |██████████████████████████████▎ | 1.8 MB 23.5 MB/s eta 0:00:01\r\u001b[K     |██████████████████████████████▍ | 1.9 MB 23.5 MB/s eta 0:00:01\r\u001b[K     |██████████████████████████████▋ | 1.9 MB 23.5 MB/s eta 0:00:01\r\u001b[K     |██████████████████████████████▊ | 1.9 MB 23.5 MB/s eta 0:00:01\r\u001b[K     |███████████████████████████████ | 1.9 MB 23.5 MB/s eta 0:00:01\r\u001b[K     |███████████████████████████████ | 1.9 MB 23.5 MB/s eta 0:00:01\r\u001b[K     |███████████████████████████████▎| 1.9 MB 23.5 MB/s eta 0:00:01\r\u001b[K     |███████████████████████████████▍| 1.9 MB 23.5 MB/s eta 0:00:01\r\u001b[K     |███████████████████████████████▋| 1.9 MB 23.5 MB/s eta 0:00:01\r\u001b[K     |███████████████████████████████▊| 1.9 MB 23.5 MB/s eta 0:00:01\r\u001b[K     |████████████████████████████████| 1.9 MB 23.5 MB/s eta 0:00:01\r\u001b[K     |████████████████████████████████| 2.0 MB 23.5 MB/s \n",
            "\u001b[?25hInstalling collected packages: pydicom\n",
            "Successfully installed pydicom-2.2.2\n",
            "Collecting python-gdcm\n",
            "  Downloading python_gdcm-3.0.10-cp37-cp37m-manylinux_2_17_x86_64.manylinux2014_x86_64.whl (9.4 MB)\n",
            "\u001b[K     |████████████████████████████████| 9.4 MB 27.1 MB/s \n",
            "\u001b[?25hInstalling collected packages: python-gdcm\n",
            "Successfully installed python-gdcm-3.0.10\n"
          ]
        }
      ]
    },
    {
      "cell_type": "markdown",
      "metadata": {
        "id": "6x-8dBRmKeva"
      },
      "source": [
        "Jump into coding :)\n",
        "\n",
        "Let's load a DICOM object and display its metadata\n",
        "\n",
        "\n"
      ]
    },
    {
      "cell_type": "code",
      "metadata": {
        "colab": {
          "base_uri": "https://localhost:8080/",
          "height": 361
        },
        "id": "tYpXIoDMJq_P",
        "outputId": "287bd980-43eb-4da8-d413-497ba544f2b2"
      },
      "source": [
        "import pydicom\n",
        "\n",
        "\n",
        "\n",
        "def recurse_tree(dataset, level = 0):\n",
        "    # order the dicom tags\n",
        "    for data_element in dataset:\n",
        "        \n",
        "        print(f\"{'  ' * level} {str(data_element)}\")\n",
        "        if data_element.VR == \"SQ\":  # a sequence\n",
        "            for dataset in data_element.value:\n",
        "                recurse_tree(dataset, level + 1)\n",
        "\n",
        "ds = pydicom.dcmread(\"data/democases/case1/case1_008.dcm\")\n",
        "\n",
        "recurse_tree(ds)"
      ],
      "execution_count": 3,
      "outputs": [
        {
          "output_type": "error",
          "ename": "FileNotFoundError",
          "evalue": "ignored",
          "traceback": [
            "\u001b[0;31m---------------------------------------------------------------------------\u001b[0m",
            "\u001b[0;31mFileNotFoundError\u001b[0m                         Traceback (most recent call last)",
            "\u001b[0;32m<ipython-input-3-a059a138d4e7>\u001b[0m in \u001b[0;36m<module>\u001b[0;34m()\u001b[0m\n\u001b[1;32m     12\u001b[0m                 \u001b[0mrecurse_tree\u001b[0m\u001b[0;34m(\u001b[0m\u001b[0mdataset\u001b[0m\u001b[0;34m,\u001b[0m \u001b[0mlevel\u001b[0m \u001b[0;34m+\u001b[0m \u001b[0;36m1\u001b[0m\u001b[0;34m)\u001b[0m\u001b[0;34m\u001b[0m\u001b[0;34m\u001b[0m\u001b[0m\n\u001b[1;32m     13\u001b[0m \u001b[0;34m\u001b[0m\u001b[0m\n\u001b[0;32m---> 14\u001b[0;31m \u001b[0mds\u001b[0m \u001b[0;34m=\u001b[0m \u001b[0mpydicom\u001b[0m\u001b[0;34m.\u001b[0m\u001b[0mdcmread\u001b[0m\u001b[0;34m(\u001b[0m\u001b[0;34m\"data/democases/case1/case1_008.dcm\"\u001b[0m\u001b[0;34m)\u001b[0m\u001b[0;34m\u001b[0m\u001b[0;34m\u001b[0m\u001b[0m\n\u001b[0m\u001b[1;32m     15\u001b[0m \u001b[0;34m\u001b[0m\u001b[0m\n\u001b[1;32m     16\u001b[0m \u001b[0mrecurse_tree\u001b[0m\u001b[0;34m(\u001b[0m\u001b[0mds\u001b[0m\u001b[0;34m)\u001b[0m\u001b[0;34m\u001b[0m\u001b[0;34m\u001b[0m\u001b[0m\n",
            "\u001b[0;32m/usr/local/lib/python3.7/dist-packages/pydicom/filereader.py\u001b[0m in \u001b[0;36mdcmread\u001b[0;34m(fp, defer_size, stop_before_pixels, force, specific_tags)\u001b[0m\n\u001b[1;32m    999\u001b[0m         \u001b[0mcaller_owns_file\u001b[0m \u001b[0;34m=\u001b[0m \u001b[0;32mFalse\u001b[0m\u001b[0;34m\u001b[0m\u001b[0;34m\u001b[0m\u001b[0m\n\u001b[1;32m   1000\u001b[0m         \u001b[0mlogger\u001b[0m\u001b[0;34m.\u001b[0m\u001b[0mdebug\u001b[0m\u001b[0;34m(\u001b[0m\u001b[0;34m\"Reading file '{0}'\"\u001b[0m\u001b[0;34m.\u001b[0m\u001b[0mformat\u001b[0m\u001b[0;34m(\u001b[0m\u001b[0mfp\u001b[0m\u001b[0;34m)\u001b[0m\u001b[0;34m)\u001b[0m\u001b[0;34m\u001b[0m\u001b[0;34m\u001b[0m\u001b[0m\n\u001b[0;32m-> 1001\u001b[0;31m         \u001b[0mfp\u001b[0m \u001b[0;34m=\u001b[0m \u001b[0mopen\u001b[0m\u001b[0;34m(\u001b[0m\u001b[0mfp\u001b[0m\u001b[0;34m,\u001b[0m \u001b[0;34m'rb'\u001b[0m\u001b[0;34m)\u001b[0m\u001b[0;34m\u001b[0m\u001b[0;34m\u001b[0m\u001b[0m\n\u001b[0m\u001b[1;32m   1002\u001b[0m     \u001b[0;32melif\u001b[0m \u001b[0mfp\u001b[0m \u001b[0;32mis\u001b[0m \u001b[0;32mNone\u001b[0m \u001b[0;32mor\u001b[0m \u001b[0;32mnot\u001b[0m \u001b[0mhasattr\u001b[0m\u001b[0;34m(\u001b[0m\u001b[0mfp\u001b[0m\u001b[0;34m,\u001b[0m \u001b[0;34m\"read\"\u001b[0m\u001b[0;34m)\u001b[0m \u001b[0;32mor\u001b[0m \u001b[0;32mnot\u001b[0m \u001b[0mhasattr\u001b[0m\u001b[0;34m(\u001b[0m\u001b[0mfp\u001b[0m\u001b[0;34m,\u001b[0m \u001b[0;34m\"seek\"\u001b[0m\u001b[0;34m)\u001b[0m\u001b[0;34m:\u001b[0m\u001b[0;34m\u001b[0m\u001b[0;34m\u001b[0m\u001b[0m\n\u001b[1;32m   1003\u001b[0m         raise TypeError(\"dcmread: Expected a file path or a file-like, \"\n",
            "\u001b[0;31mFileNotFoundError\u001b[0m: [Errno 2] No such file or directory: 'data/democases/case1/case1_008.dcm'"
          ]
        }
      ]
    }
  ]
}