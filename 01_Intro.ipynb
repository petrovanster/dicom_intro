{
  "nbformat": 4,
  "nbformat_minor": 0,
  "metadata": {
    "colab": {
      "name": "01.Intro.ipynb",
      "provenance": [],
      "collapsed_sections": [],
      "authorship_tag": "ABX9TyNPK9P39j8R8tS0A7D09hTd",
      "include_colab_link": true
    },
    "kernelspec": {
      "name": "python3",
      "display_name": "Python 3"
    },
    "language_info": {
      "name": "python"
    }
  },
  "cells": [
    {
      "cell_type": "markdown",
      "metadata": {
        "id": "view-in-github",
        "colab_type": "text"
      },
      "source": [
        "<a href=\"https://colab.research.google.com/github/petrovanster/dicom_intro/blob/main/01_Intro.ipynb\" target=\"_parent\"><img src=\"https://colab.research.google.com/assets/colab-badge.svg\" alt=\"Open In Colab\"/></a>"
      ]
    },
    {
      "cell_type": "markdown",
      "metadata": {
        "id": "DpweoOQMJva5"
      },
      "source": [
        "Install pydicom and gdcm"
      ]
    },
    {
      "cell_type": "code",
      "metadata": {
        "colab": {
          "base_uri": "https://localhost:8080/"
        },
        "id": "n8fC3VhWJ92A",
        "outputId": "6c8b8547-af3a-475b-db09-523aa785f5cb"
      },
      "source": [
        "!pip install pydicom\n",
        "!pip install python-gdcm"
      ],
      "execution_count": 2,
      "outputs": [
        {
          "output_type": "stream",
          "name": "stdout",
          "text": [
            "Collecting pydicom\n",
            "  Downloading pydicom-2.2.2-py3-none-any.whl (2.0 MB)\n",
            "\u001b[?25l\r\u001b[K     |▏                               | 10 kB 24.0 MB/s eta 0:00:01\r\u001b[K     |▍                               | 20 kB 23.6 MB/s eta 0:00:01\r\u001b[K     |▌                               | 30 kB 28.3 MB/s eta 0:00:01\r\u001b[K     |▊                               | 40 kB 19.2 MB/s eta 0:00:01\r\u001b[K     |▉                               | 51 kB 20.9 MB/s eta 0:00:01\r\u001b[K     |█                               | 61 kB 21.8 MB/s eta 0:00:01\r\u001b[K     |█▏                              | 71 kB 23.5 MB/s eta 0:00:01\r\u001b[K     |█▍                              | 81 kB 25.3 MB/s eta 0:00:01\r\u001b[K     |█▌                              | 92 kB 23.0 MB/s eta 0:00:01\r\u001b[K     |█▊                              | 102 kB 23.5 MB/s eta 0:00:01\r\u001b[K     |█▉                              | 112 kB 23.5 MB/s eta 0:00:01\r\u001b[K     |██                              | 122 kB 23.5 MB/s eta 0:00:01\r\u001b[K     |██▏                             | 133 kB 23.5 MB/s eta 0:00:01\r\u001b[K     |██▍                             | 143 kB 23.5 MB/s eta 0:00:01\r\u001b[K     |██▌                             | 153 kB 23.5 MB/s eta 0:00:01\r\u001b[K     |██▊                             | 163 kB 23.5 MB/s eta 0:00:01\r\u001b[K     |██▉                             | 174 kB 23.5 MB/s eta 0:00:01\r\u001b[K     |███                             | 184 kB 23.5 MB/s eta 0:00:01\r\u001b[K     |███▏                            | 194 kB 23.5 MB/s eta 0:00:01\r\u001b[K     |███▍                            | 204 kB 23.5 MB/s eta 0:00:01\r\u001b[K     |███▌                            | 215 kB 23.5 MB/s eta 0:00:01\r\u001b[K     |███▊                            | 225 kB 23.5 MB/s eta 0:00:01\r\u001b[K     |███▉                            | 235 kB 23.5 MB/s eta 0:00:01\r\u001b[K     |████                            | 245 kB 23.5 MB/s eta 0:00:01\r\u001b[K     |████▏                           | 256 kB 23.5 MB/s eta 0:00:01\r\u001b[K     |████▍                           | 266 kB 23.5 MB/s eta 0:00:01\r\u001b[K     |████▌                           | 276 kB 23.5 MB/s eta 0:00:01\r\u001b[K     |████▊                           | 286 kB 23.5 MB/s eta 0:00:01\r\u001b[K     |████▉                           | 296 kB 23.5 MB/s eta 0:00:01\r\u001b[K     |█████                           | 307 kB 23.5 MB/s eta 0:00:01\r\u001b[K     |█████▏                          | 317 kB 23.5 MB/s eta 0:00:01\r\u001b[K     |█████▍                          | 327 kB 23.5 MB/s eta 0:00:01\r\u001b[K     |█████▌                          | 337 kB 23.5 MB/s eta 0:00:01\r\u001b[K     |█████▊                          | 348 kB 23.5 MB/s eta 0:00:01\r\u001b[K     |█████▉                          | 358 kB 23.5 MB/s eta 0:00:01\r\u001b[K     |██████                          | 368 kB 23.5 MB/s eta 0:00:01\r\u001b[K     |██████▏                         | 378 kB 23.5 MB/s eta 0:00:01\r\u001b[K     |██████▍                         | 389 kB 23.5 MB/s eta 0:00:01\r\u001b[K     |██████▌                         | 399 kB 23.5 MB/s eta 0:00:01\r\u001b[K     |██████▊                         | 409 kB 23.5 MB/s eta 0:00:01\r\u001b[K     |██████▉                         | 419 kB 23.5 MB/s eta 0:00:01\r\u001b[K     |███████                         | 430 kB 23.5 MB/s eta 0:00:01\r\u001b[K     |███████▎                        | 440 kB 23.5 MB/s eta 0:00:01\r\u001b[K     |███████▍                        | 450 kB 23.5 MB/s eta 0:00:01\r\u001b[K     |███████▋                        | 460 kB 23.5 MB/s eta 0:00:01\r\u001b[K     |███████▊                        | 471 kB 23.5 MB/s eta 0:00:01\r\u001b[K     |████████                        | 481 kB 23.5 MB/s eta 0:00:01\r\u001b[K     |████████                        | 491 kB 23.5 MB/s eta 0:00:01\r\u001b[K     |████████▎                       | 501 kB 23.5 MB/s eta 0:00:01\r\u001b[K     |████████▍                       | 512 kB 23.5 MB/s eta 0:00:01\r\u001b[K     |████████▋                       | 522 kB 23.5 MB/s eta 0:00:01\r\u001b[K     |████████▊                       | 532 kB 23.5 MB/s eta 0:00:01\r\u001b[K     |█████████                       | 542 kB 23.5 MB/s eta 0:00:01\r\u001b[K     |█████████                       | 552 kB 23.5 MB/s eta 0:00:01\r\u001b[K     |█████████▎                      | 563 kB 23.5 MB/s eta 0:00:01\r\u001b[K     |█████████▍                      | 573 kB 23.5 MB/s eta 0:00:01\r\u001b[K     |█████████▋                      | 583 kB 23.5 MB/s eta 0:00:01\r\u001b[K     |█████████▊                      | 593 kB 23.5 MB/s eta 0:00:01\r\u001b[K     |██████████                      | 604 kB 23.5 MB/s eta 0:00:01\r\u001b[K     |██████████                      | 614 kB 23.5 MB/s eta 0:00:01\r\u001b[K     |██████████▎                     | 624 kB 23.5 MB/s eta 0:00:01\r\u001b[K     |██████████▍                     | 634 kB 23.5 MB/s eta 0:00:01\r\u001b[K     |██████████▋                     | 645 kB 23.5 MB/s eta 0:00:01\r\u001b[K     |██████████▊                     | 655 kB 23.5 MB/s eta 0:00:01\r\u001b[K     |███████████                     | 665 kB 23.5 MB/s eta 0:00:01\r\u001b[K     |███████████                     | 675 kB 23.5 MB/s eta 0:00:01\r\u001b[K     |███████████▎                    | 686 kB 23.5 MB/s eta 0:00:01\r\u001b[K     |███████████▍                    | 696 kB 23.5 MB/s eta 0:00:01\r\u001b[K     |███████████▋                    | 706 kB 23.5 MB/s eta 0:00:01\r\u001b[K     |███████████▊                    | 716 kB 23.5 MB/s eta 0:00:01\r\u001b[K     |████████████                    | 727 kB 23.5 MB/s eta 0:00:01\r\u001b[K     |████████████                    | 737 kB 23.5 MB/s eta 0:00:01\r\u001b[K     |████████████▎                   | 747 kB 23.5 MB/s eta 0:00:01\r\u001b[K     |████████████▍                   | 757 kB 23.5 MB/s eta 0:00:01\r\u001b[K     |████████████▋                   | 768 kB 23.5 MB/s eta 0:00:01\r\u001b[K     |████████████▊                   | 778 kB 23.5 MB/s eta 0:00:01\r\u001b[K     |█████████████                   | 788 kB 23.5 MB/s eta 0:00:01\r\u001b[K     |█████████████                   | 798 kB 23.5 MB/s eta 0:00:01\r\u001b[K     |█████████████▎                  | 808 kB 23.5 MB/s eta 0:00:01\r\u001b[K     |█████████████▍                  | 819 kB 23.5 MB/s eta 0:00:01\r\u001b[K     |█████████████▋                  | 829 kB 23.5 MB/s eta 0:00:01\r\u001b[K     |█████████████▊                  | 839 kB 23.5 MB/s eta 0:00:01\r\u001b[K     |██████████████                  | 849 kB 23.5 MB/s eta 0:00:01\r\u001b[K     |██████████████                  | 860 kB 23.5 MB/s eta 0:00:01\r\u001b[K     |██████████████▎                 | 870 kB 23.5 MB/s eta 0:00:01\r\u001b[K     |██████████████▌                 | 880 kB 23.5 MB/s eta 0:00:01\r\u001b[K     |██████████████▋                 | 890 kB 23.5 MB/s eta 0:00:01\r\u001b[K     |██████████████▉                 | 901 kB 23.5 MB/s eta 0:00:01\r\u001b[K     |███████████████                 | 911 kB 23.5 MB/s eta 0:00:01\r\u001b[K     |███████████████▏                | 921 kB 23.5 MB/s eta 0:00:01\r\u001b[K     |███████████████▎                | 931 kB 23.5 MB/s eta 0:00:01\r\u001b[K     |███████████████▌                | 942 kB 23.5 MB/s eta 0:00:01\r\u001b[K     |███████████████▋                | 952 kB 23.5 MB/s eta 0:00:01\r\u001b[K     |███████████████▉                | 962 kB 23.5 MB/s eta 0:00:01\r\u001b[K     |████████████████                | 972 kB 23.5 MB/s eta 0:00:01\r\u001b[K     |████████████████▏               | 983 kB 23.5 MB/s eta 0:00:01\r\u001b[K     |████████████████▎               | 993 kB 23.5 MB/s eta 0:00:01\r\u001b[K     |████████████████▌               | 1.0 MB 23.5 MB/s eta 0:00:01\r\u001b[K     |████████████████▋               | 1.0 MB 23.5 MB/s eta 0:00:01\r\u001b[K     |████████████████▉               | 1.0 MB 23.5 MB/s eta 0:00:01\r\u001b[K     |█████████████████               | 1.0 MB 23.5 MB/s eta 0:00:01\r\u001b[K     |█████████████████▏              | 1.0 MB 23.5 MB/s eta 0:00:01\r\u001b[K     |█████████████████▎              | 1.1 MB 23.5 MB/s eta 0:00:01\r\u001b[K     |█████████████████▌              | 1.1 MB 23.5 MB/s eta 0:00:01\r\u001b[K     |█████████████████▋              | 1.1 MB 23.5 MB/s eta 0:00:01\r\u001b[K     |█████████████████▉              | 1.1 MB 23.5 MB/s eta 0:00:01\r\u001b[K     |██████████████████              | 1.1 MB 23.5 MB/s eta 0:00:01\r\u001b[K     |██████████████████▏             | 1.1 MB 23.5 MB/s eta 0:00:01\r\u001b[K     |██████████████████▎             | 1.1 MB 23.5 MB/s eta 0:00:01\r\u001b[K     |██████████████████▌             | 1.1 MB 23.5 MB/s eta 0:00:01\r\u001b[K     |██████████████████▋             | 1.1 MB 23.5 MB/s eta 0:00:01\r\u001b[K     |██████████████████▉             | 1.1 MB 23.5 MB/s eta 0:00:01\r\u001b[K     |███████████████████             | 1.2 MB 23.5 MB/s eta 0:00:01\r\u001b[K     |███████████████████▏            | 1.2 MB 23.5 MB/s eta 0:00:01\r\u001b[K     |███████████████████▎            | 1.2 MB 23.5 MB/s eta 0:00:01\r\u001b[K     |███████████████████▌            | 1.2 MB 23.5 MB/s eta 0:00:01\r\u001b[K     |███████████████████▋            | 1.2 MB 23.5 MB/s eta 0:00:01\r\u001b[K     |███████████████████▉            | 1.2 MB 23.5 MB/s eta 0:00:01\r\u001b[K     |████████████████████            | 1.2 MB 23.5 MB/s eta 0:00:01\r\u001b[K     |████████████████████▏           | 1.2 MB 23.5 MB/s eta 0:00:01\r\u001b[K     |████████████████████▎           | 1.2 MB 23.5 MB/s eta 0:00:01\r\u001b[K     |████████████████████▌           | 1.2 MB 23.5 MB/s eta 0:00:01\r\u001b[K     |████████████████████▋           | 1.3 MB 23.5 MB/s eta 0:00:01\r\u001b[K     |████████████████████▉           | 1.3 MB 23.5 MB/s eta 0:00:01\r\u001b[K     |█████████████████████           | 1.3 MB 23.5 MB/s eta 0:00:01\r\u001b[K     |█████████████████████▏          | 1.3 MB 23.5 MB/s eta 0:00:01\r\u001b[K     |█████████████████████▎          | 1.3 MB 23.5 MB/s eta 0:00:01\r\u001b[K     |█████████████████████▌          | 1.3 MB 23.5 MB/s eta 0:00:01\r\u001b[K     |█████████████████████▊          | 1.3 MB 23.5 MB/s eta 0:00:01\r\u001b[K     |█████████████████████▉          | 1.3 MB 23.5 MB/s eta 0:00:01\r\u001b[K     |██████████████████████          | 1.3 MB 23.5 MB/s eta 0:00:01\r\u001b[K     |██████████████████████▏         | 1.4 MB 23.5 MB/s eta 0:00:01\r\u001b[K     |██████████████████████▍         | 1.4 MB 23.5 MB/s eta 0:00:01\r\u001b[K     |██████████████████████▌         | 1.4 MB 23.5 MB/s eta 0:00:01\r\u001b[K     |██████████████████████▊         | 1.4 MB 23.5 MB/s eta 0:00:01\r\u001b[K     |██████████████████████▉         | 1.4 MB 23.5 MB/s eta 0:00:01\r\u001b[K     |███████████████████████         | 1.4 MB 23.5 MB/s eta 0:00:01\r\u001b[K     |███████████████████████▏        | 1.4 MB 23.5 MB/s eta 0:00:01\r\u001b[K     |███████████████████████▍        | 1.4 MB 23.5 MB/s eta 0:00:01\r\u001b[K     |███████████████████████▌        | 1.4 MB 23.5 MB/s eta 0:00:01\r\u001b[K     |███████████████████████▊        | 1.4 MB 23.5 MB/s eta 0:00:01\r\u001b[K     |███████████████████████▉        | 1.5 MB 23.5 MB/s eta 0:00:01\r\u001b[K     |████████████████████████        | 1.5 MB 23.5 MB/s eta 0:00:01\r\u001b[K     |████████████████████████▏       | 1.5 MB 23.5 MB/s eta 0:00:01\r\u001b[K     |████████████████████████▍       | 1.5 MB 23.5 MB/s eta 0:00:01\r\u001b[K     |████████████████████████▌       | 1.5 MB 23.5 MB/s eta 0:00:01\r\u001b[K     |████████████████████████▊       | 1.5 MB 23.5 MB/s eta 0:00:01\r\u001b[K     |████████████████████████▉       | 1.5 MB 23.5 MB/s eta 0:00:01\r\u001b[K     |█████████████████████████       | 1.5 MB 23.5 MB/s eta 0:00:01\r\u001b[K     |█████████████████████████▏      | 1.5 MB 23.5 MB/s eta 0:00:01\r\u001b[K     |█████████████████████████▍      | 1.5 MB 23.5 MB/s eta 0:00:01\r\u001b[K     |█████████████████████████▌      | 1.6 MB 23.5 MB/s eta 0:00:01\r\u001b[K     |█████████████████████████▊      | 1.6 MB 23.5 MB/s eta 0:00:01\r\u001b[K     |█████████████████████████▉      | 1.6 MB 23.5 MB/s eta 0:00:01\r\u001b[K     |██████████████████████████      | 1.6 MB 23.5 MB/s eta 0:00:01\r\u001b[K     |██████████████████████████▏     | 1.6 MB 23.5 MB/s eta 0:00:01\r\u001b[K     |██████████████████████████▍     | 1.6 MB 23.5 MB/s eta 0:00:01\r\u001b[K     |██████████████████████████▌     | 1.6 MB 23.5 MB/s eta 0:00:01\r\u001b[K     |██████████████████████████▊     | 1.6 MB 23.5 MB/s eta 0:00:01\r\u001b[K     |██████████████████████████▉     | 1.6 MB 23.5 MB/s eta 0:00:01\r\u001b[K     |███████████████████████████     | 1.6 MB 23.5 MB/s eta 0:00:01\r\u001b[K     |███████████████████████████▏    | 1.7 MB 23.5 MB/s eta 0:00:01\r\u001b[K     |███████████████████████████▍    | 1.7 MB 23.5 MB/s eta 0:00:01\r\u001b[K     |███████████████████████████▌    | 1.7 MB 23.5 MB/s eta 0:00:01\r\u001b[K     |███████████████████████████▊    | 1.7 MB 23.5 MB/s eta 0:00:01\r\u001b[K     |███████████████████████████▉    | 1.7 MB 23.5 MB/s eta 0:00:01\r\u001b[K     |████████████████████████████    | 1.7 MB 23.5 MB/s eta 0:00:01\r\u001b[K     |████████████████████████████▏   | 1.7 MB 23.5 MB/s eta 0:00:01\r\u001b[K     |████████████████████████████▍   | 1.7 MB 23.5 MB/s eta 0:00:01\r\u001b[K     |████████████████████████████▌   | 1.7 MB 23.5 MB/s eta 0:00:01\r\u001b[K     |████████████████████████████▊   | 1.8 MB 23.5 MB/s eta 0:00:01\r\u001b[K     |█████████████████████████████   | 1.8 MB 23.5 MB/s eta 0:00:01\r\u001b[K     |█████████████████████████████   | 1.8 MB 23.5 MB/s eta 0:00:01\r\u001b[K     |█████████████████████████████▎  | 1.8 MB 23.5 MB/s eta 0:00:01\r\u001b[K     |█████████████████████████████▍  | 1.8 MB 23.5 MB/s eta 0:00:01\r\u001b[K     |█████████████████████████████▋  | 1.8 MB 23.5 MB/s eta 0:00:01\r\u001b[K     |█████████████████████████████▊  | 1.8 MB 23.5 MB/s eta 0:00:01\r\u001b[K     |██████████████████████████████  | 1.8 MB 23.5 MB/s eta 0:00:01\r\u001b[K     |██████████████████████████████  | 1.8 MB 23.5 MB/s eta 0:00:01\r\u001b[K     |██████████████████████████████▎ | 1.8 MB 23.5 MB/s eta 0:00:01\r\u001b[K     |██████████████████████████████▍ | 1.9 MB 23.5 MB/s eta 0:00:01\r\u001b[K     |██████████████████████████████▋ | 1.9 MB 23.5 MB/s eta 0:00:01\r\u001b[K     |██████████████████████████████▊ | 1.9 MB 23.5 MB/s eta 0:00:01\r\u001b[K     |███████████████████████████████ | 1.9 MB 23.5 MB/s eta 0:00:01\r\u001b[K     |███████████████████████████████ | 1.9 MB 23.5 MB/s eta 0:00:01\r\u001b[K     |███████████████████████████████▎| 1.9 MB 23.5 MB/s eta 0:00:01\r\u001b[K     |███████████████████████████████▍| 1.9 MB 23.5 MB/s eta 0:00:01\r\u001b[K     |███████████████████████████████▋| 1.9 MB 23.5 MB/s eta 0:00:01\r\u001b[K     |███████████████████████████████▊| 1.9 MB 23.5 MB/s eta 0:00:01\r\u001b[K     |████████████████████████████████| 1.9 MB 23.5 MB/s eta 0:00:01\r\u001b[K     |████████████████████████████████| 2.0 MB 23.5 MB/s \n",
            "\u001b[?25hInstalling collected packages: pydicom\n",
            "Successfully installed pydicom-2.2.2\n",
            "Collecting python-gdcm\n",
            "  Downloading python_gdcm-3.0.10-cp37-cp37m-manylinux_2_17_x86_64.manylinux2014_x86_64.whl (9.4 MB)\n",
            "\u001b[K     |████████████████████████████████| 9.4 MB 27.1 MB/s \n",
            "\u001b[?25hInstalling collected packages: python-gdcm\n",
            "Successfully installed python-gdcm-3.0.10\n"
          ]
        }
      ]
    },
    {
      "cell_type": "code",
      "metadata": {
        "colab": {
          "base_uri": "https://localhost:8080/"
        },
        "id": "fwslmJ3EUVfl",
        "outputId": "3cda2706-17ba-441c-e45d-927c2a94bd76"
      },
      "source": [
        "!git clone https://github.com/petrovanster/dicom_intro.git"
      ],
      "execution_count": 4,
      "outputs": [
        {
          "output_type": "stream",
          "name": "stdout",
          "text": [
            "Cloning into 'dicom_intro'...\n",
            "remote: Enumerating objects: 133, done.\u001b[K\n",
            "remote: Counting objects: 100% (133/133), done.\u001b[K\n",
            "remote: Compressing objects: 100% (126/126), done.\u001b[K\n",
            "remote: Total 133 (delta 1), reused 127 (delta 1), pack-reused 0\u001b[K\n",
            "Receiving objects: 100% (133/133), 35.05 MiB | 27.15 MiB/s, done.\n",
            "Resolving deltas: 100% (1/1), done.\n"
          ]
        }
      ]
    },
    {
      "cell_type": "markdown",
      "metadata": {
        "id": "6x-8dBRmKeva"
      },
      "source": [
        "Jump into coding :)\n",
        "\n",
        "Let's load a DICOM object and display its metadata\n",
        "\n",
        "\n"
      ]
    },
    {
      "cell_type": "code",
      "metadata": {
        "colab": {
          "base_uri": "https://localhost:8080/"
        },
        "id": "tYpXIoDMJq_P",
        "outputId": "42ff76d4-1bee-471b-c76f-68c69ef3b87d"
      },
      "source": [
        "import pydicom\n",
        "\n",
        "\n",
        "\n",
        "def recurse_tree(dataset, level = 0):\n",
        "    # order the dicom tags\n",
        "    for data_element in dataset:\n",
        "        \n",
        "        print(f\"{'  ' * level} {str(data_element)}\")\n",
        "        if data_element.VR == \"SQ\":  # a sequence\n",
        "            for dataset in data_element.value:\n",
        "                recurse_tree(dataset, level + 1)\n",
        "\n",
        "ds = pydicom.dcmread(\"dicom_intro/data/democases/case2/case2a_001.dcm\")\n",
        "\n",
        "recurse_tree(ds)"
      ],
      "execution_count": 30,
      "outputs": [
        {
          "output_type": "stream",
          "name": "stdout",
          "text": [
            " (0008, 0008) Image Type                          CS: ['DERIVED', 'SECONDARY', 'IMAGE ADDITION']\n",
            " (0008, 0012) Instance Creation Date              DA: '20070315'\n",
            " (0008, 0013) Instance Creation Time              TM: '132035'\n",
            " (0008, 0016) SOP Class UID                       UI: CT Image Storage\n",
            " (0008, 0018) SOP Instance UID                    UI: 1.2.276.0.50.192168001099.8252157.14547392.157\n",
            " (0008, 0020) Study Date                          DA: '20010101'\n",
            " (0008, 0022) Acquisition Date                    DA: '20070511'\n",
            " (0008, 0023) Content Date                        DA: '20070511'\n",
            " (0008, 0030) Study Time                          TM: '113646'\n",
            " (0008, 0032) Acquisition Time                    TM: '113646'\n",
            " (0008, 0033) Content Time                        TM: '113646'\n",
            " (0008, 0050) Accession Number                    SH: '11788761116031'\n",
            " (0008, 0060) Modality                            CS: 'CT'\n",
            " (0008, 0064) Conversion Type                     CS: 'WSD'\n",
            " (0008, 0070) Manufacturer                        LO: 'Philips'\n",
            " (0008, 0080) Institution Name                    LO: 'Anonymized Hospital'\n",
            " (0008, 0081) Institution Address                 ST: 'Anonymized Address'\n",
            " (0008, 0090) Referring Physician's Name          PN: 'Dr. Anonymous'\n",
            " (0008, 1010) Station Name                        SH: 'Any Station'\n",
            " (0008, 1030) Study Description                   LO: 'CT Abdomen'\n",
            " (0008, 103e) Series Description                  LO: 'COM ABD'\n",
            " (0008, 1040) Institutional Department Name       LO: 'Radiologie'\n",
            " (0008, 1090) Manufacturer's Model Name           LO: 'Mx8000 IDT 16'\n",
            " (0008, 2111) Derivation Description              ST: 'Combine image created by Mx8000IDT'\n",
            " (0008, 2112) Source Image Sequence               SQ: <Sequence, length 3>\n",
            "   (0008, 1150) Referenced SOP Class UID            UI: CT Image Storage\n",
            "   (0008, 1155) Referenced SOP Instance UID         UI: 1.2.840.113704.1.111.3716.1173961066.10159\n",
            "   (0008, 1150) Referenced SOP Class UID            UI: CT Image Storage\n",
            "   (0008, 1155) Referenced SOP Instance UID         UI: 1.2.840.113704.1.111.3716.1173961066.10160\n",
            "   (0008, 1150) Referenced SOP Class UID            UI: CT Image Storage\n",
            "   (0008, 1155) Referenced SOP Instance UID         UI: 1.2.840.113704.1.111.3716.1173961066.10161\n",
            " (0010, 0010) Patient's Name                      PN: 'Fall 2'\n",
            " (0010, 0020) Patient ID                          LO: '11788761116033'\n",
            " (0010, 0030) Patient's Birth Date                DA: '19000101'\n",
            " (0010, 0032) Patient's Birth Time                TM: '0000'\n",
            " (0010, 0040) Patient's Sex                       CS: 'O'\n",
            " (0010, 2110) Allergies                           LO: ''\n",
            " (0018, 0010) Contrast/Bolus Agent                LO: 'CONTRAST'\n",
            " (0018, 0022) Scan Options                        CS: 'HELIX'\n",
            " (0018, 0050) Slice Thickness                     DS: '4.0'\n",
            " (0018, 0060) KVP                                 DS: '120.0'\n",
            " (0018, 0090) Data Collection Diameter            DS: '388.0'\n",
            " (0018, 1016) Secondary Capture Device Manufactur LO: 'Philips'\n",
            " (0018, 1018) Secondary Capture Device Manufactur LO: 'Mx8000IDT'\n",
            " (0018, 1019) Secondary Capture Device Software V LO: ''\n",
            " (0018, 1020) Software Versions                   LO: '4.0.2'\n",
            " (0018, 1030) Protocol Name                       LO: 'Abdomen BIPH./Abdomen'\n",
            " (0018, 1040) Contrast/Bolus Route                LO: ''\n",
            " (0018, 1041) Contrast/Bolus Volume               DS: None\n",
            " (0018, 1100) Reconstruction Diameter             DS: '388.0'\n",
            " (0018, 1120) Gantry/Detector Tilt                DS: '0.0'\n",
            " (0018, 1130) Table Height                        DS: '150.0'\n",
            " (0018, 1140) Rotation Direction                  CS: 'CW'\n",
            " (0018, 1150) Exposure Time                       IS: None\n",
            " (0018, 1151) X-Ray Tube Current                  IS: '313'\n",
            " (0018, 1152) Exposure                            IS: '217'\n",
            " (0018, 1160) Filter Type                         SH: 'C'\n",
            " (0018, 1210) Convolution Kernel                  SH: 'C'\n",
            " (0018, 5100) Patient Position                    CS: 'HFS'\n",
            " (0020, 000d) Study Instance UID                  UI: 1.2.276.0.50.192168001099.8252157.14547392.4\n",
            " (0020, 000e) Series Instance UID                 UI: 1.2.276.0.50.192168001099.8252157.14547392.106\n",
            " (0020, 0010) Study ID                            SH: '11788761116134'\n",
            " (0020, 0011) Series Number                       IS: '2054'\n",
            " (0020, 0012) Acquisition Number                  IS: None\n",
            " (0020, 0013) Instance Number                     IS: '152'\n",
            " (0020, 0020) Patient Orientation                 CS: ''\n",
            " (0020, 0032) Image Position (Patient)            DS: [-193.999798, -88.9999072, -200.99979]\n",
            " (0020, 0037) Image Orientation (Patient)         DS: [1, 0, 0, 0, 1, 0]\n",
            " (0020, 0052) Frame of Reference UID              UI: 1.2.840.113704.1.111.5940.1173960777.4\n",
            " (0020, 1040) Position Reference Indicator        LO: ''\n",
            " (0020, 1041) Slice Location                      DS: '-201.0'\n",
            " (0020, 4000) Image Comments                      LT: 'COM ABD'\n",
            " (0028, 0002) Samples per Pixel                   US: 1\n",
            " (0028, 0004) Photometric Interpretation          CS: 'MONOCHROME2'\n",
            " (0028, 0010) Rows                                US: 512\n",
            " (0028, 0011) Columns                             US: 512\n",
            " (0028, 0030) Pixel Spacing                       DS: [0.7578125, 0.7578125]\n",
            " (0028, 0100) Bits Allocated                      US: 16\n",
            " (0028, 0101) Bits Stored                         US: 12\n",
            " (0028, 0102) High Bit                            US: 11\n",
            " (0028, 0103) Pixel Representation                US: 0\n",
            " (0028, 0106) Smallest Image Pixel Value          US: 0\n",
            " (0028, 0107) Largest Image Pixel Value           US: 2208\n",
            " (0028, 1050) Window Center                       DS: [50, 50]\n",
            " (0028, 1051) Window Width                        DS: [450, 450]\n",
            " (0028, 1052) Rescale Intercept                   DS: '-1024.0'\n",
            " (0028, 1053) Rescale Slope                       DS: '1.0'\n",
            " (0032, 1032) Requesting Physician                PN: 'RequestingPhysician'\n",
            " (0032, 1033) Requesting Service                  LO: 'RequestingService'\n",
            " (0040, 0253) Performed Procedure Step ID         SH: '2659640'\n",
            " (0040, 0254) Performed Procedure Step Descriptio LO: 'CT Abdomen'\n",
            " (0040, 0260) Performed Protocol Code Sequence    SQ: <Sequence, length 1>\n",
            "   (0008, 0100) Code Value                          SH: '2310'\n",
            "   (0008, 0102) Coding Scheme Designator            SH: '99GAP'\n",
            "   (0008, 0104) Code Meaning                        LO: 'CT Abdomen'\n",
            " (0040, 0275) Request Attributes Sequence         SQ: <Sequence, length 1>\n",
            "   (0040, 0007) Scheduled Procedure Step Descriptio LO: 'CT Abdomen'\n",
            "   (0040, 0008) Scheduled Protocol Code Sequence    SQ: <Sequence, length 1>\n",
            "     (0008, 0000) Group Length                        UL: 44\n",
            "     (0008, 0100) Code Value                          SH: '2310'\n",
            "     (0008, 0102) Coding Scheme Designator            SH: '99GAP'\n",
            "     (0008, 0104) Code Meaning                        LO: 'CT Abdomen'\n",
            "   (0040, 0009) Scheduled Procedure Step ID         SH: '0004387371'\n",
            "   (0040, 1001) Requested Procedure ID              SH: '0004387371'\n",
            " (0040, 3001) Confidentiality Constraint on Patie LO: ''\n",
            " (7fe0, 0010) Pixel Data                          OW: Array of 524288 elements\n"
          ]
        }
      ]
    },
    {
      "cell_type": "markdown",
      "metadata": {
        "id": "l7Y9BzGsUx0v"
      },
      "source": [
        "Let's inspect some of the tags\n",
        "\n",
        "UIDs"
      ]
    },
    {
      "cell_type": "code",
      "metadata": {
        "colab": {
          "base_uri": "https://localhost:8080/"
        },
        "id": "ZYkrsJ3IUtqD",
        "outputId": "98977923-9e8a-4fec-e33a-43dd289c96e1"
      },
      "source": [
        "print(f\"{ds.StudyInstanceUID} - {ds.SeriesInstanceUID} - {ds.SOPInstanceUID}\")"
      ],
      "execution_count": 8,
      "outputs": [
        {
          "output_type": "stream",
          "name": "stdout",
          "text": [
            "1.2.276.0.50.192168001099.7810872.14547392.270 - 1.2.276.0.50.192168001099.7810872.14547392.458 - 1.2.276.0.50.192168001099.7810872.14547392.467\n"
          ]
        }
      ]
    },
    {
      "cell_type": "markdown",
      "metadata": {
        "id": "axxNqajvVGaw"
      },
      "source": [
        "Patient Data"
      ]
    },
    {
      "cell_type": "code",
      "metadata": {
        "colab": {
          "base_uri": "https://localhost:8080/"
        },
        "id": "zD8n4C0jU4N8",
        "outputId": "15e87f8b-726c-403b-ced4-29752686d9e2"
      },
      "source": [
        "print(f\"ID: {ds.PatientID} Name: {ds.PatientName} DOB: {ds.PatientBirthDate} Sex: {ds.PatientSex}\")"
      ],
      "execution_count": 9,
      "outputs": [
        {
          "output_type": "stream",
          "name": "stdout",
          "text": [
            "ID: 11788759296811 Name: Fall 1 DOB: 19000101 Sex: O\n"
          ]
        }
      ]
    },
    {
      "cell_type": "markdown",
      "metadata": {
        "id": "ZHTqC3eJVaJC"
      },
      "source": [
        "Inspect Study Data"
      ]
    },
    {
      "cell_type": "code",
      "metadata": {
        "colab": {
          "base_uri": "https://localhost:8080/"
        },
        "id": "JILW1sZFVjOF",
        "outputId": "73660033-b9d6-44f3-c4ee-40da08306638"
      },
      "source": [
        "print(f\"Description: {ds.StudyDescription} Study Date: {ds.StudyDate} AccessionNumber: {ds.AccessionNumber}\")"
      ],
      "execution_count": 11,
      "outputs": [
        {
          "output_type": "stream",
          "name": "stdout",
          "text": [
            "Desciption: MRT Sakroiliakalgelenke Study Date: 20010101 AccessionNumber: 11788759296818\n"
          ]
        }
      ]
    },
    {
      "cell_type": "markdown",
      "metadata": {
        "id": "lEO7up6qV5CG"
      },
      "source": [
        "Series Data"
      ]
    },
    {
      "cell_type": "code",
      "metadata": {
        "colab": {
          "base_uri": "https://localhost:8080/"
        },
        "id": "-Gc_o5_OWIMF",
        "outputId": "b68c8597-3c43-44b8-b83e-00a4feb50c4e"
      },
      "source": [
        "print(f\"Description: {ds.SeriesDescription} Modality: {ds.Modality}\")\n",
        "print(f\"Manufacturer: {ds.Manufacturer} Model : {ds.ManufacturerModelName}\")"
      ],
      "execution_count": 19,
      "outputs": [
        {
          "output_type": "stream",
          "name": "stdout",
          "text": [
            "Description: Rheuma     *ISG/THRI/KM Modality: MR\n",
            "Manufacturer: Philips Medical Systems Model : Intera\n"
          ]
        }
      ]
    },
    {
      "cell_type": "markdown",
      "metadata": {
        "id": "ZZSAs1aMXMFr"
      },
      "source": [
        "Image Data"
      ]
    },
    {
      "cell_type": "code",
      "metadata": {
        "colab": {
          "base_uri": "https://localhost:8080/"
        },
        "id": "z73_qmauWkg1",
        "outputId": "bb0b78dd-8f2c-44d9-90b5-c4d053f5df47"
      },
      "source": [
        "print(f\"SOP Class: {ds[0x0008, 0x0016]}\")\n",
        "\n",
        "print(f\"Transfer Syntax: {str(ds.file_meta[0x0002,0x0010])}\")\n",
        "print(f\"Size: {ds.Rows} x {ds.Columns}\")\n",
        "print(f\"Samples/Pixel: {ds.SamplesPerPixel}\")\n",
        "print(f\"Bits Allocated: {ds.BitsAllocated} BitsStored: {ds.BitsStored} high bit: {ds.HighBit}\")\n",
        "print(f\"Photometric Interpretation: {ds.PhotometricInterpretation}\")\n",
        "if ds.SamplesPerPixel>1:\n",
        "  print(f\"Planar configuration: {ds.PlanarConfiguration}\")"
      ],
      "execution_count": 24,
      "outputs": [
        {
          "output_type": "stream",
          "name": "stdout",
          "text": [
            "SOP Class: (0008, 0016) SOP Class UID                       UI: MR Image Storage\n",
            "Transfer Syntax: (0002, 0010) Transfer Syntax UID                 UI: Implicit VR Little Endian\n",
            "Size: 512 x 512\n",
            "Samples/Pixel: 1\n",
            "Bits Allocated: 16 BitsStored: 12 high bit: 11\n",
            "Photometric Interpretation: MONOCHROME2\n"
          ]
        }
      ]
    },
    {
      "cell_type": "markdown",
      "metadata": {
        "id": "KbXyamcPa1vQ"
      },
      "source": [
        "explanation on photometric interpretation: [link to standard](http://dicom.nema.org/medical/Dicom/2016e/output/chtml/part03/sect_C.7.6.3.html#sect_C.7.6.3.1.2)\n"
      ]
    },
    {
      "cell_type": "markdown",
      "metadata": {
        "id": "cl1y-tf-diE5"
      },
      "source": [
        "Next, let's inspect the sample value windowing"
      ]
    },
    {
      "cell_type": "code",
      "metadata": {
        "colab": {
          "base_uri": "https://localhost:8080/"
        },
        "id": "kBaroaqMdll-",
        "outputId": "3da5756b-3788-452f-c4ed-9b34de108a22"
      },
      "source": [
        "c = ds.WindowCenter\n",
        "w = ds.WindowWidth\n",
        "print(f\"Windowing center: {c} width: {w}\")\n",
        "print(f\"Window: {c-w/2} - {c+w/2}\")"
      ],
      "execution_count": 26,
      "outputs": [
        {
          "output_type": "stream",
          "name": "stdout",
          "text": [
            "Windowing center: 1112.0 width: 2223.0\n",
            "Window: 0.5 - 2223.5\n"
          ]
        }
      ]
    }
  ]
}