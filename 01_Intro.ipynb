{
  "cells": [
    {
      "cell_type": "markdown",
      "metadata": {
        "colab_type": "text",
        "id": "view-in-github"
      },
      "source": [
        "<a href=\"https://colab.research.google.com/github/petrovanster/dicom_intro/blob/main/01_Intro.ipynb\" target=\"_parent\"><img src=\"https://colab.research.google.com/assets/colab-badge.svg\" alt=\"Open In Colab\"/></a>"
      ]
    },
    {
      "cell_type": "markdown",
      "metadata": {},
      "source": [
        "# Setup"
      ]
    },
    {
      "cell_type": "markdown",
      "metadata": {
        "id": "DpweoOQMJva5"
      },
      "source": [
        "Install pydicom and gdcm"
      ]
    },
    {
      "cell_type": "code",
      "execution_count": null,
      "metadata": {
        "colab": {
          "base_uri": "https://localhost:8080/"
        },
        "id": "n8fC3VhWJ92A",
        "outputId": "6c8b8547-af3a-475b-db09-523aa785f5cb"
      },
      "outputs": [],
      "source": [
        "!pip install pydicom\n",
        "!pip install python-gdcm"
      ]
    },
    {
      "cell_type": "code",
      "execution_count": null,
      "metadata": {
        "colab": {
          "base_uri": "https://localhost:8080/"
        },
        "id": "fwslmJ3EUVfl",
        "outputId": "3cda2706-17ba-441c-e45d-927c2a94bd76"
      },
      "outputs": [],
      "source": [
        "!git clone https://github.com/petrovanster/dicom_intro.git"
      ]
    },
    {
      "cell_type": "markdown",
      "metadata": {},
      "source": [
        "# Code"
      ]
    },
    {
      "cell_type": "markdown",
      "metadata": {
        "id": "6x-8dBRmKeva"
      },
      "source": [
        "Jump into coding :)\n",
        "\n",
        "Let's load a DICOM object and display its metadata\n",
        "\n",
        "\n"
      ]
    },
    {
      "cell_type": "code",
      "execution_count": null,
      "metadata": {
        "colab": {
          "base_uri": "https://localhost:8080/"
        },
        "id": "tYpXIoDMJq_P",
        "outputId": "42ff76d4-1bee-471b-c76f-68c69ef3b87d"
      },
      "outputs": [],
      "source": [
        "import pydicom\n",
        "\n",
        "\n",
        "\n",
        "def recurse_tree(dataset, level = 0):\n",
        "    # order the dicom tags\n",
        "    for data_element in dataset:\n",
        "        \n",
        "        print(f\"{'  ' * level} {str(data_element)}\")\n",
        "        if data_element.VR == \"SQ\":  # a sequence\n",
        "            for dataset in data_element.value:\n",
        "                recurse_tree(dataset, level + 1)\n",
        "\n",
        "ds = pydicom.dcmread(\"dicom_intro/data/democases/case2/case2a_001.dcm\")\n",
        "\n",
        "recurse_tree(ds)"
      ]
    },
    {
      "cell_type": "markdown",
      "metadata": {
        "id": "l7Y9BzGsUx0v"
      },
      "source": [
        "Let's inspect some of the tags\n",
        "\n",
        "UIDs"
      ]
    },
    {
      "cell_type": "code",
      "execution_count": null,
      "metadata": {
        "colab": {
          "base_uri": "https://localhost:8080/"
        },
        "id": "ZYkrsJ3IUtqD",
        "outputId": "98977923-9e8a-4fec-e33a-43dd289c96e1"
      },
      "outputs": [],
      "source": [
        "print(f\"{ds.StudyInstanceUID} - {ds.SeriesInstanceUID} - {ds.SOPInstanceUID}\")"
      ]
    },
    {
      "cell_type": "markdown",
      "metadata": {
        "id": "axxNqajvVGaw"
      },
      "source": [
        "Patient Data"
      ]
    },
    {
      "cell_type": "code",
      "execution_count": null,
      "metadata": {
        "colab": {
          "base_uri": "https://localhost:8080/"
        },
        "id": "zD8n4C0jU4N8",
        "outputId": "15e87f8b-726c-403b-ced4-29752686d9e2"
      },
      "outputs": [],
      "source": [
        "print(f\"ID: {ds.PatientID} Name: {ds.PatientName} DOB: {ds.PatientBirthDate} Sex: {ds.PatientSex}\")"
      ]
    },
    {
      "cell_type": "markdown",
      "metadata": {
        "id": "ZHTqC3eJVaJC"
      },
      "source": [
        "Inspect Study Data"
      ]
    },
    {
      "cell_type": "code",
      "execution_count": null,
      "metadata": {
        "colab": {
          "base_uri": "https://localhost:8080/"
        },
        "id": "JILW1sZFVjOF",
        "outputId": "73660033-b9d6-44f3-c4ee-40da08306638"
      },
      "outputs": [],
      "source": [
        "print(f\"Description: {ds.StudyDescription} Study Date: {ds.StudyDate} AccessionNumber: {ds.AccessionNumber}\")"
      ]
    },
    {
      "cell_type": "markdown",
      "metadata": {
        "id": "lEO7up6qV5CG"
      },
      "source": [
        "Series Data"
      ]
    },
    {
      "cell_type": "code",
      "execution_count": null,
      "metadata": {
        "colab": {
          "base_uri": "https://localhost:8080/"
        },
        "id": "-Gc_o5_OWIMF",
        "outputId": "b68c8597-3c43-44b8-b83e-00a4feb50c4e"
      },
      "outputs": [],
      "source": [
        "print(f\"Description: {ds.SeriesDescription} Modality: {ds.Modality}\")\n",
        "print(f\"Manufacturer: {ds.Manufacturer} Model : {ds.ManufacturerModelName}\")"
      ]
    },
    {
      "cell_type": "markdown",
      "metadata": {
        "id": "ZZSAs1aMXMFr"
      },
      "source": [
        "Image Data"
      ]
    },
    {
      "cell_type": "code",
      "execution_count": null,
      "metadata": {
        "colab": {
          "base_uri": "https://localhost:8080/"
        },
        "id": "z73_qmauWkg1",
        "outputId": "bb0b78dd-8f2c-44d9-90b5-c4d053f5df47"
      },
      "outputs": [],
      "source": [
        "print(f\"SOP Class: {ds[0x0008, 0x0016]}\")\n",
        "\n",
        "print(f\"Transfer Syntax: {str(ds.file_meta[0x0002,0x0010])}\")\n",
        "print(f\"Size: {ds.Rows} x {ds.Columns}\")\n",
        "print(f\"Samples/Pixel: {ds.SamplesPerPixel}\")\n",
        "print(f\"Bits Allocated: {ds.BitsAllocated} BitsStored: {ds.BitsStored} high bit: {ds.HighBit}\")\n",
        "print(f\"Photometric Interpretation: {ds.PhotometricInterpretation}\")\n",
        "if ds.SamplesPerPixel>1:\n",
        "  print(f\"Planar configuration: {ds.PlanarConfiguration}\")"
      ]
    },
    {
      "cell_type": "markdown",
      "metadata": {
        "id": "KbXyamcPa1vQ"
      },
      "source": [
        "explanation on photometric interpretation: [link to standard](http://dicom.nema.org/medical/Dicom/2016e/output/chtml/part03/sect_C.7.6.3.html#sect_C.7.6.3.1.2)\n"
      ]
    },
    {
      "cell_type": "markdown",
      "metadata": {
        "id": "cl1y-tf-diE5"
      },
      "source": [
        "Next, let's inspect the sample value windowing"
      ]
    },
    {
      "cell_type": "code",
      "execution_count": null,
      "metadata": {
        "colab": {
          "base_uri": "https://localhost:8080/"
        },
        "id": "kBaroaqMdll-",
        "outputId": "3da5756b-3788-452f-c4ed-9b34de108a22"
      },
      "outputs": [],
      "source": [
        "c = ds.WindowCenter\n",
        "w = ds.WindowWidth\n",
        "print(f\"Windowing center: {c} width: {w}\")\n",
        "print(f\"Window: {c-w/2} - {c+w/2}\")"
      ]
    }
  ],
  "metadata": {
    "colab": {
      "authorship_tag": "ABX9TyNPK9P39j8R8tS0A7D09hTd",
      "collapsed_sections": [],
      "include_colab_link": true,
      "name": "01.Intro.ipynb",
      "provenance": []
    },
    "kernelspec": {
      "display_name": "Python 3",
      "name": "python3"
    },
    "language_info": {
      "name": "python",
      "version": "3.9.6"
    }
  },
  "nbformat": 4,
  "nbformat_minor": 0
}
